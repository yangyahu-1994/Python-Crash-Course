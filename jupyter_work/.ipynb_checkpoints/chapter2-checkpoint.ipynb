{
 "cells": [
  {
   "cell_type": "markdown",
   "metadata": {},
   "source": [
    "# 第一部分 基础知识\n",
    "# 第2章 变量和简单数据类型"
   ]
  },
  {
   "cell_type": "markdown",
   "metadata": {},
   "source": [
    "## 2.1 运行hello_world.py时发生的情况"
   ]
  },
  {
   "cell_type": "code",
   "execution_count": 1,
   "metadata": {},
   "outputs": [
    {
     "name": "stdout",
     "output_type": "stream",
     "text": [
      "Hello Python world!\n"
     ]
    }
   ],
   "source": [
    "print(\"Hello Python world!\")"
   ]
  },
  {
   "cell_type": "markdown",
   "metadata": {},
   "source": [
    "## 2.2 变量"
   ]
  },
  {
   "cell_type": "code",
   "execution_count": 2,
   "metadata": {},
   "outputs": [
    {
     "name": "stdout",
     "output_type": "stream",
     "text": [
      "Hello python world!\n",
      "Hello python world!\n",
      "Hello Python Crash Course world!\n"
     ]
    }
   ],
   "source": [
    "message = \"Hello python world!\"\n",
    "print(message)\n",
    "\n",
    "# 拓展一下这个程序\n",
    "message = \"Hello python world!\"\n",
    "print(message)\n",
    "\n",
    "message = \"Hello Python Crash Course world!\"\n",
    "print(message)"
   ]
  },
  {
   "cell_type": "markdown",
   "metadata": {
    "collapsed": true
   },
   "source": [
    "\n",
    "### 2.2.1 变量的命名和使用\n",
    "#### 变量名只能包含字母、数字和下划线。变量名可以以字母或下划线打头，但不能以数字打头。message_1/1_message\n",
    "#### 变量名不能包含空格，但可使用下滑线来分割其中的单词。greeting_message/greeting message\n",
    "#### 不要将Python关键字和函数名用作变量名。\n",
    "#### 变量名应既简短又具有描述性。\n",
    "#### 慎用小写字母l和大写字母O，因为他们可能被人错看成数字1和0."
   ]
  },
  {
   "cell_type": "markdown",
   "metadata": {},
   "source": [
    "### 2.2.2 使用变量时避免命名错误"
   ]
  },
  {
   "cell_type": "code",
   "execution_count": 3,
   "metadata": {},
   "outputs": [
    {
     "name": "stdout",
     "output_type": "stream",
     "text": [
      "Hello Python Crash Course reader!\n",
      "Hello Python Crash Course reader!\n"
     ]
    }
   ],
   "source": [
    "message = \"Hello Python Crash Course reader!\"\n",
    "print(message)\n",
    "\n",
    "# Python解释器不会对代码做拼写检查，但要求变量名的拼写一致。\n",
    "mesage = \"Hello Python Crash Course reader!\"\n",
    "print(mesage)"
   ]
  },
  {
   "cell_type": "markdown",
   "metadata": {},
   "source": [
    "## 2.3 字符串\n",
    "#### 在python中，用引号括起来的都是字符串，其中的引号可以是单引号，也可以是双引号。\n",
    "### 2.3.1 使用方法修改字符串的大小写"
   ]
  },
  {
   "cell_type": "markdown",
   "metadata": {},
   "source": [
    "name.py"
   ]
  },
  {
   "cell_type": "code",
   "execution_count": 4,
   "metadata": {},
   "outputs": [
    {
     "name": "stdout",
     "output_type": "stream",
     "text": [
      "Ada Lovelace\n",
      "ADA LOVELACE\n",
      "ada lovelace\n"
     ]
    }
   ],
   "source": [
    "name = \"ada lovelace\"\n",
    "print(name.title())\n",
    "\n",
    "name = \"Ada Lovelace\"\n",
    "print(name.upper())\n",
    "\n",
    "print(name.lower())"
   ]
  },
  {
   "cell_type": "markdown",
   "metadata": {},
   "source": [
    "### 2.3.2 合并（拼接）字符串"
   ]
  },
  {
   "cell_type": "code",
   "execution_count": 6,
   "metadata": {},
   "outputs": [
    {
     "name": "stdout",
     "output_type": "stream",
     "text": [
      "ada lovelace\n",
      "ada lovelace\n",
      "Hello, Ada Lovelace!\n",
      "Hello, Ada Lovelace!\n",
      "Hello, Ada Lovelace!\n"
     ]
    }
   ],
   "source": [
    "first_name = \"ada\"\n",
    "last_name = \"lovelace\"\n",
    "full_name = first_name + \" \" + last_name\n",
    "print(full_name)\n",
    "# python使用加号(+)来合并字符串。\n",
    "\n",
    "# f字符串（python3.6引入的）\n",
    "full_name = f\"{first_name} {last_name}\"\n",
    "print(full_name)\n",
    "\n",
    "first_name = \"ada\"\n",
    "last_name = \"lovelace\"\n",
    "full_name = first_name + \" \" + last_name\n",
    "print(\"Hello, \" + full_name.title() + \"!\")\n",
    "print(f\"Hello, {full_name.title()}!\")\n",
    "\n",
    "first_name = \"ada\"\n",
    "last_name = \"lovelace\"\n",
    "full_name = first_name + \" \" + last_name\n",
    "message = \"Hello, \" + full_name.title() + \"!\"\n",
    "print(message)"
   ]
  },
  {
   "cell_type": "markdown",
   "metadata": {},
   "source": [
    "### 2.3.3 使用制表符和换行符来添加空白"
   ]
  },
  {
   "cell_type": "code",
   "execution_count": 10,
   "metadata": {},
   "outputs": [
    {
     "name": "stdout",
     "output_type": "stream",
     "text": [
      "python\n",
      "\tpython\n",
      "Languages:\n",
      "python\n",
      "C\n",
      "JavaScript\n",
      "Languages:\n",
      "\tpython\n",
      "\tC\n",
      "\tJavaScript\n"
     ]
    }
   ],
   "source": [
    "print(\"python\")\n",
    "print(\"\\tpython\")\n",
    "print(\"Languages:\\npython\\nC\\nJavaScript\")\n",
    "# 要在字符串中添加制表符，可使用字符组合\\t\n",
    "# 要在字符串中添加换行符，可使用字符组合\\n\n",
    "print(\"Languages:\\n\\tpython\\n\\tC\\n\\tJavaScript\")"
   ]
  },
  {
   "cell_type": "markdown",
   "metadata": {},
   "source": [
    "### 2.3.4 删除空白\n",
    "#### 后：rstrip() 前：lstrip() 两端：strip()\n",
    "### 2.3.5 使用字符串时避免语法错误"
   ]
  },
  {
   "cell_type": "markdown",
   "metadata": {},
   "source": [
    "apostrophe.py"
   ]
  },
  {
   "cell_type": "code",
   "execution_count": 11,
   "metadata": {},
   "outputs": [
    {
     "name": "stdout",
     "output_type": "stream",
     "text": [
      "One of Python's strengths is its diverse community.\n",
      "One of Python's strengths is its diverse community.\n"
     ]
    }
   ],
   "source": [
    "message = \"One of Python's strengths is its diverse community.\"\n",
    "print(message)\n",
    "\n",
    "message = \"One of Python's strengths is its diverse community.\"\n",
    "print(message)"
   ]
  },
  {
   "cell_type": "markdown",
   "metadata": {},
   "source": [
    "## 2.4 数字\n",
    "### 2.4.1 整数\n",
    "#### 加（+）减（-）乘（*）除（/）\n",
    "#### python使用两个乘号表示乘方运算\n",
    "### 2.4.2 浮点数\n",
    "#### python将带小数点的数字都称为浮点数"
   ]
  },
  {
   "cell_type": "markdown",
   "metadata": {},
   "source": [
    "### 2.4.3 使用函数str()避免类型错误"
   ]
  },
  {
   "cell_type": "markdown",
   "metadata": {},
   "source": [
    "birthday.py"
   ]
  },
  {
   "cell_type": "code",
   "execution_count": 12,
   "metadata": {},
   "outputs": [
    {
     "name": "stdout",
     "output_type": "stream",
     "text": [
      "Happy 23rd Birthday!\n"
     ]
    }
   ],
   "source": [
    "age = 23\n",
    "message = \"Happy \" + str(age) + \"rd Birthday!\"\n",
    "print(message)"
   ]
  },
  {
   "cell_type": "markdown",
   "metadata": {
    "collapsed": true
   },
   "source": [
    "### 2.4.4 Python2中的整数"
   ]
  },
  {
   "cell_type": "markdown",
   "metadata": {},
   "source": [
    "## 2.5 注释\n",
    "### 2.5.1 如何编写注释\n",
    "#### 在python中，注释用井号（#）标识"
   ]
  },
  {
   "cell_type": "markdown",
   "metadata": {},
   "source": [
    "comment.py"
   ]
  },
  {
   "cell_type": "code",
   "execution_count": 13,
   "metadata": {},
   "outputs": [
    {
     "name": "stdout",
     "output_type": "stream",
     "text": [
      "Hello Python people!\n"
     ]
    }
   ],
   "source": [
    "# 向大家问好\n",
    "print(\"Hello Python people!\")"
   ]
  },
  {
   "cell_type": "markdown",
   "metadata": {},
   "source": [
    "### 2.5.2 该编写什么样的注释\n",
    "#### 主要阐述代码要做什么，以及是如何做的"
   ]
  },
  {
   "cell_type": "markdown",
   "metadata": {},
   "source": [
    "## 2.6 python之禅"
   ]
  },
  {
   "cell_type": "markdown",
   "metadata": {},
   "source": [
    "## 2.7 小结"
   ]
  },
  {
   "cell_type": "markdown",
   "metadata": {},
   "source": [
    "### 在本章中，学习了：\n",
    "#### 1.如何使用变量；\n",
    "#### 2.如何创建描述性变量名以及如何消除名称错误和语法错误； \n",
    "#### 3.字符串是什么，以及如何使用小写、大写和首字母大写方式显示字符串；\n",
    "#### 4.使用空白来显示整洁的输出，以及如何剔除字符串中多余的空白；\n",
    "#### 5.如何使用整数和浮点数；\n",
    "#### 6.使用数值数据时需要注意的意外行为；\n",
    "#### 7.如何编写说明性注释，让代码对你和其他人来说更容易理解；\n",
    "#### 8.了解了让代码尽可能简单的理念。"
   ]
  },
  {
   "cell_type": "code",
   "execution_count": null,
   "metadata": {},
   "outputs": [],
   "source": []
  }
 ],
 "metadata": {
  "kernelspec": {
   "display_name": "Python 3",
   "language": "python",
   "name": "python3"
  },
  "language_info": {
   "codemirror_mode": {
    "name": "ipython",
    "version": 3
   },
   "file_extension": ".py",
   "mimetype": "text/x-python",
   "name": "python",
   "nbconvert_exporter": "python",
   "pygments_lexer": "ipython3",
   "version": "3.8.3"
  },
  "toc": {
   "base_numbering": 1,
   "nav_menu": {},
   "number_sections": false,
   "sideBar": true,
   "skip_h1_title": false,
   "title_cell": "Table of Contents",
   "title_sidebar": "Contents",
   "toc_cell": false,
   "toc_position": {},
   "toc_section_display": true,
   "toc_window_display": false
  }
 },
 "nbformat": 4,
 "nbformat_minor": 2
}
